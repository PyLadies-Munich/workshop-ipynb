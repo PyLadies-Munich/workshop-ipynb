{
 "cells": [
  {
   "cell_type": "markdown",
   "metadata": {
    "slideshow": {
     "slide_type": "slide"
    }
   },
   "source": [
    "\n",
    "<h1 style=\"text-align: center;\">Welcome</h1>\n",
    "\n",
    "\n",
    "![PyLadies](https://mneme.informatik.unibw-muenchen.de/public-praes/pyladies-beginners-workshop1/images/pyladies-munich.png \"PyLadies Munich\")\n",
    "\n",
    "<h1 style=\"text-align: center;\">Beginner's workshop 4</h1>\n",
    "\n",
    "\n",
    "<h2 style=\"text-align: center;\">Recab Workshop - Python Basics for Beginners and Language Switchers</h2>"
   ]
  },
  {
   "cell_type": "markdown",
   "metadata": {
    "slideshow": {
     "slide_type": "slide"
    }
   },
   "source": [
    "<h1 style=\"text-align: center;\">Recab - Workshops 1-3</h1>\n",
    "\n",
    "* Workshop 1 - Introduction, Setup and first steps\n",
    "* Workshop 2 - Theory of data types and data structures\n",
    "* Workshop 3 - Theory of data flow / data control\n",
    "* Workshop 4 - Repeating Workshop (for beginners and language changer) - Today"
   ]
  },
  {
   "cell_type": "code",
   "execution_count": 4,
   "metadata": {
    "collapsed": false,
    "slideshow": {
     "slide_type": "subslide"
    }
   },
   "outputs": [
    {
     "name": "stdout",
     "output_type": "stream",
     "text": [
      "0 1 1 2 3 5 8 13 21 34 55 89 144 233 377 610 987 \n"
     ]
    }
   ],
   "source": [
    "# Python 3: Fibonacci series up to n\n",
    "def fib(n):\n",
    "    a, b = 0, 1\n",
    "    while a < n:\n",
    "        print(a, end=' ')\n",
    "        a, b = b, a+b\n",
    "    print()\n",
    "fib(1000)"
   ]
  },
  {
   "cell_type": "markdown",
   "metadata": {
    "slideshow": {
     "slide_type": "subslide"
    }
   },
   "source": [
    "# Workshop 1 - Introduction, Setup and first steps\n",
    "\n",
    "* Introduction\n",
    "  * What is Python & where are the origins\n",
    "\n"
   ]
  },
  {
   "cell_type": "markdown",
   "metadata": {
    "slideshow": {
     "slide_type": "fragment"
    }
   },
   "source": [
    "![Python](https://mneme.informatik.unibw-muenchen.de/public-praes/pyladies-beginners-workshop1/images/flying_circus.jpg \"Monty Python Flying Circus\")"
   ]
  },
  {
   "cell_type": "markdown",
   "metadata": {
    "slideshow": {
     "slide_type": "fragment"
    }
   },
   "source": [
    "* Tools & Setup\n",
    "* The Zen of Python"
   ]
  },
  {
   "cell_type": "markdown",
   "metadata": {
    "slideshow": {
     "slide_type": "subslide"
    }
   },
   "source": [
    "## The Zen of Python"
   ]
  },
  {
   "cell_type": "code",
   "execution_count": 5,
   "metadata": {
    "collapsed": false,
    "slideshow": {
     "slide_type": "fragment"
    }
   },
   "outputs": [
    {
     "name": "stdout",
     "output_type": "stream",
     "text": [
      "The Zen of Python, by Tim Peters\n",
      "\n",
      "Beautiful is better than ugly.\n",
      "Explicit is better than implicit.\n",
      "Simple is better than complex.\n",
      "Complex is better than complicated.\n",
      "Flat is better than nested.\n",
      "Sparse is better than dense.\n",
      "Readability counts.\n",
      "Special cases aren't special enough to break the rules.\n",
      "Although practicality beats purity.\n",
      "Errors should never pass silently.\n",
      "Unless explicitly silenced.\n",
      "In the face of ambiguity, refuse the temptation to guess.\n",
      "There should be one-- and preferably only one --obvious way to do it.\n",
      "Although that way may not be obvious at first unless you're Dutch.\n",
      "Now is better than never.\n",
      "Although never is often better than *right* now.\n",
      "If the implementation is hard to explain, it's a bad idea.\n",
      "If the implementation is easy to explain, it may be a good idea.\n",
      "Namespaces are one honking great idea -- let's do more of those!\n"
     ]
    }
   ],
   "source": [
    "import this"
   ]
  },
  {
   "cell_type": "markdown",
   "metadata": {
    "slideshow": {
     "slide_type": "subslide"
    }
   },
   "source": [
    "##The two most important rules from my perspective\n",
    "\n",
    "###readability counts\n",
    "    \n",
    "Your code should be readable and by this understandable & maintainable\n",
    "\n",
    "###Explicit is better than implicit\n",
    "\n",
    "Implicit magic might make you quicker in write code, but it makes it less readable, less understandable and harder to debug."
   ]
  },
  {
   "cell_type": "markdown",
   "metadata": {
    "slideshow": {
     "slide_type": "subslide"
    }
   },
   "source": [
    "<iframe width=\"420\" height=\"315\" src=\"https://www.youtube.com/embed/DWODIO6aCUE\" frameborder=\"0\" allowfullscreen></iframe>"
   ]
  },
  {
   "cell_type": "markdown",
   "metadata": {
    "slideshow": {
     "slide_type": "subslide"
    }
   },
   "source": [
    "## We are standing on the shoulders of giants\n",
    "\n",
    "![giants](https://mneme.informatik.unibw-muenchen.de/public-praes/pyladies-beginners-workshop1/images/giants_shoulders.jpg \"Standing on the shoulder of giants\")"
   ]
  },
  {
   "cell_type": "markdown",
   "metadata": {
    "collapsed": true,
    "slideshow": {
     "slide_type": "slide"
    }
   },
   "source": [
    "# Workshop 2 - Theory of data types and data structures\n",
    "* Paradigms\n",
    "  * Python is a multi-paradigm language\n",
    "    * Imperativ - Object Oriented\n",
    "    * Functional\n",
    "    * procedural\n",
    "    * reflective"
   ]
  },
  {
   "cell_type": "markdown",
   "metadata": {
    "slideshow": {
     "slide_type": "fragment"
    }
   },
   "source": [
    "<center style=\"font-size: 150%; line-height: 1.1em;\"> All programming language have the ***same power*** - they are ***turing complete***</center>"
   ]
  },
  {
   "cell_type": "markdown",
   "metadata": {
    "slideshow": {
     "slide_type": "subslide"
    }
   },
   "source": [
    "* Duck-Typing\n",
    "<blockquote>\n",
    "  <p>When I see a bird that walks like a duck and swims like a duck and quacks like a duck, I call that bird a duck.</p>\n",
    "  <cite style=\"text-align: right;\">James Whitcomb Riley</cite>\n",
    "</blockquote>\n"
   ]
  },
  {
   "cell_type": "markdown",
   "metadata": {
    "collapsed": true,
    "slideshow": {
     "slide_type": "fragment"
    }
   },
   "source": [
    "* Duck Typing is a very powerful concept of Object Oriented Programming.\n",
    "* Inheritance, Interfaces and Conventions, Meta-Programming are direct conclusions"
   ]
  },
  {
   "cell_type": "markdown",
   "metadata": {
    "slideshow": {
     "slide_type": "subslide"
    }
   },
   "source": [
    "## UNIX Philosophy important for Programming\n",
    "\n",
    "<blockquote>\n",
    "<p>Write programs that do one thing and do it well. <br>\n",
    "Write programs to work together. <br>\n",
    "Write programs to handle text streams, because that is a universal interface.</p>\n",
    "<cite>Doug MyIlroy</cite>\n",
    "</blockquote>"
   ]
  },
  {
   "cell_type": "markdown",
   "metadata": {
    "slideshow": {
     "slide_type": "subslide"
    }
   },
   "source": [
    "## Theory of data types and data structures\n",
    "\n"
   ]
  },
  {
   "cell_type": "markdown",
   "metadata": {
    "slideshow": {
     "slide_type": "fragment"
    }
   },
   "source": [
    "\n",
    "<blockquote>\n",
    "<p>Smart data structures and dumb code works a lot better than the other way around</p>\n",
    "<cite>Eric Raymond</cite>\n",
    "</blockquote>"
   ]
  },
  {
   "cell_type": "markdown",
   "metadata": {
    "slideshow": {
     "slide_type": "fragment"
    }
   },
   "source": [
    "## Standard type hiearachy\n",
    "\n",
    "Objects are Python’s abstraction for data. All data in a Python program is represented by objects or by relations between objects.\n",
    "\n",
    "Every Object has a ``type``, the build in function type returns the Object Type / Class name"
   ]
  },
  {
   "cell_type": "code",
   "execution_count": 7,
   "metadata": {
    "collapsed": false,
    "slideshow": {
     "slide_type": "fragment"
    }
   },
   "outputs": [
    {
     "data": {
      "text/plain": [
       "str"
      ]
     },
     "execution_count": 7,
     "metadata": {},
     "output_type": "execute_result"
    }
   ],
   "source": [
    "type('example')"
   ]
  },
  {
   "cell_type": "markdown",
   "metadata": {
    "slideshow": {
     "slide_type": "subslide"
    }
   },
   "source": [
    "###None\n",
    "\n",
    "The Python ``None`` type is a Singleton that signify the absence of a value\n",
    "\n",
    "One special case: Its ***truth value*** is ``false``\n"
   ]
  },
  {
   "cell_type": "code",
   "execution_count": 6,
   "metadata": {
    "collapsed": true,
    "slideshow": {
     "slide_type": "fragment"
    }
   },
   "outputs": [],
   "source": [
    "None"
   ]
  },
  {
   "cell_type": "code",
   "execution_count": 5,
   "metadata": {
    "collapsed": false,
    "slideshow": {
     "slide_type": "fragment"
    }
   },
   "outputs": [
    {
     "data": {
      "text/plain": [
       "NoneType"
      ]
     },
     "execution_count": 5,
     "metadata": {},
     "output_type": "execute_result"
    }
   ],
   "source": [
    "type(None)"
   ]
  },
  {
   "cell_type": "markdown",
   "metadata": {
    "slideshow": {
     "slide_type": "subslide"
    }
   },
   "source": [
    "## number.Numbers\n",
    "\n",
    "created by numerical literals and returnd by arithmetic operations.\n",
    "\n",
    "Numeric objects are immutable, once created their value never change"
   ]
  },
  {
   "cell_type": "markdown",
   "metadata": {
    "slideshow": {
     "slide_type": "fragment"
    }
   },
   "source": [
    "### number.Integral\n",
    "\n",
    "Two types of integers:\n",
    "\n",
    "* Integers (int)\n",
    "* Booleans (bool)\n",
    "\n",
    "#### Booleans (bool)\n",
    "\n",
    "two truth values:\n",
    "\n",
    "* False (0)\n",
    "* True (1)"
   ]
  },
  {
   "cell_type": "code",
   "execution_count": 8,
   "metadata": {
    "collapsed": false,
    "slideshow": {
     "slide_type": "fragment"
    }
   },
   "outputs": [
    {
     "data": {
      "text/plain": [
       "True"
      ]
     },
     "execution_count": 8,
     "metadata": {},
     "output_type": "execute_result"
    }
   ],
   "source": [
    "True"
   ]
  },
  {
   "cell_type": "code",
   "execution_count": 9,
   "metadata": {
    "collapsed": false,
    "slideshow": {
     "slide_type": "fragment"
    }
   },
   "outputs": [
    {
     "data": {
      "text/plain": [
       "False"
      ]
     },
     "execution_count": 9,
     "metadata": {},
     "output_type": "execute_result"
    }
   ],
   "source": [
    "False"
   ]
  },
  {
   "cell_type": "code",
   "execution_count": 11,
   "metadata": {
    "collapsed": false,
    "slideshow": {
     "slide_type": "fragment"
    }
   },
   "outputs": [
    {
     "data": {
      "text/plain": [
       "False"
      ]
     },
     "execution_count": 11,
     "metadata": {},
     "output_type": "execute_result"
    }
   ],
   "source": [
    "bool(None)"
   ]
  },
  {
   "cell_type": "code",
   "execution_count": 10,
   "metadata": {
    "collapsed": false,
    "slideshow": {
     "slide_type": "fragment"
    }
   },
   "outputs": [
    {
     "data": {
      "text/plain": [
       "False"
      ]
     },
     "execution_count": 10,
     "metadata": {},
     "output_type": "execute_result"
    }
   ],
   "source": [
    "bool('')"
   ]
  },
  {
   "cell_type": "markdown",
   "metadata": {
    "slideshow": {
     "slide_type": "subslide"
    }
   },
   "source": [
    "### numbers.Real (float)\n",
    "\n",
    "Those represents machine-level double precision floating point numbers"
   ]
  },
  {
   "cell_type": "markdown",
   "metadata": {
    "slideshow": {
     "slide_type": "fragment"
    }
   },
   "source": [
    "### numbers.Complex\n",
    "\n",
    "Python is one of the only programming languages that contains Complex numbers directly in core types.\n",
    "\n",
    "These represent complex numbers as a pair of machine-level double precision floating point numbers. The same caveats apply as for floating point numbers. The real and imaginary parts of a complex number z can be retrieved through the read-only attributes **z.real** and **z.imag**"
   ]
  },
  {
   "cell_type": "markdown",
   "metadata": {
    "slideshow": {
     "slide_type": "subslide"
    }
   },
   "source": [
    "## Sequences\n",
    "\n",
    "These represent finite ordered sets indexed by non-negative numbers.\n",
    "The built-in function `len()` returns the number of items of a sequence. When the length of a sequence is n, the index set contains the numbers `0, 1, ..., n-1`. Item i of sequence a is selected by `a[i]`. Index starts with 0 as defined by **C**\n",
    "\n",
    "Sequences are distinguished according to their mutability:\n",
    "\n",
    "* Immutable sequences\n",
    "\n",
    "  An object of an immutable sequence type cannot change once it is created. (If the object contains references to other objects, these other objects may be mutable and may be changed; however, the collection of objects directly referenced by an immutable object cannot change.)\n",
    "\n",
    "  * Strings (repesentation changed from Python 2 to Python 3) in Python 3 all Strings are Unicode (UTF-8) sequences of chars. Python doesn't have a **char** type. Chars are just Strings with the length of 1.\n",
    "  * Tuples\n",
    "  * Bytes (Python 3, 8-Bit bytes) `b'abs'` \n",
    "  * Unicode (Python 2)\n",
    "\n",
    "* Mutable sequences\n",
    "\n",
    "  Mutable sequences can be changed after they are created.\n",
    "\n",
    "  * Lists\n",
    "  * Byte Arrays"
   ]
  },
  {
   "cell_type": "markdown",
   "metadata": {
    "slideshow": {
     "slide_type": "subslide"
    }
   },
   "source": [
    "## Set types\n",
    "\n",
    "These represent unordered, finite sets of unique, immutable objects. \n",
    "\n",
    "Like for **sequences** there are currently two intrinsic set types:\n",
    "\n",
    "* Sets\n",
    "\n",
    "  These represent a mutable set. They are created by the built-in `set()` constructor or {} and can be modified afterwards by several methods, such as `add()`.\n",
    "  \n",
    "* Frozen sets\n",
    "\n",
    "  These represent an immutable set. They are created by the built-in `frozenset()` constructor."
   ]
  },
  {
   "cell_type": "markdown",
   "metadata": {
    "slideshow": {
     "slide_type": "subslide"
    }
   },
   "source": [
    "## Mappings - Key-Value-Stores\n",
    "\n",
    "finite set of object indexed by arbitrary indes sets\n",
    "`map[key] = value`\n",
    "\n",
    "In Python there is exactly one single intrinsic mapping type called dictionary"
   ]
  },
  {
   "cell_type": "markdown",
   "metadata": {
    "slideshow": {
     "slide_type": "fragment"
    }
   },
   "source": [
    "* Java = Maps\n",
    "* Perl = Hash\n",
    "* Python = Dictionary\n",
    "* TCL = Array"
   ]
  },
  {
   "cell_type": "markdown",
   "metadata": {
    "slideshow": {
     "slide_type": "subslide"
    }
   },
   "source": [
    "## Callable types\n",
    "\n",
    "* User-defined functions \n",
    "* Instance Methodes\n",
    "* Generator functions\n",
    "* Build-in functions\n",
    "* Build-in methods\n",
    "* Classes\n",
    "* Class Instances\n",
    "* Modules"
   ]
  },
  {
   "cell_type": "markdown",
   "metadata": {
    "slideshow": {
     "slide_type": "slide"
    }
   },
   "source": [
    "# Workshop 3 - Theory of data flow / data control\n"
   ]
  },
  {
   "cell_type": "markdown",
   "metadata": {
    "slideshow": {
     "slide_type": "fragment"
    }
   },
   "source": [
    "* Statements\n",
    "  * Simple Statements\n",
    "  * Assignment statements\n",
    "  * Compound statements"
   ]
  },
  {
   "cell_type": "markdown",
   "metadata": {
    "slideshow": {
     "slide_type": "slide"
    }
   },
   "source": [
    "# Control Flow\n",
    "\n",
    "* Boolean Expressions\n",
    "* Switches\n",
    "* Loops"
   ]
  },
  {
   "cell_type": "markdown",
   "metadata": {},
   "source": [
    "##Boolean Expressions"
   ]
  },
  {
   "cell_type": "markdown",
   "metadata": {
    "slideshow": {
     "slide_type": "slide"
    }
   },
   "source": [
    "##Switches"
   ]
  },
  {
   "cell_type": "markdown",
   "metadata": {},
   "source": [
    "##Loops"
   ]
  },
  {
   "cell_type": "code",
   "execution_count": 12,
   "metadata": {
    "collapsed": true
   },
   "outputs": [],
   "source": [
    "### For Loops"
   ]
  },
  {
   "cell_type": "code",
   "execution_count": 13,
   "metadata": {
    "collapsed": true
   },
   "outputs": [],
   "source": [
    "### While Loops"
   ]
  },
  {
   "cell_type": "markdown",
   "metadata": {
    "collapsed": true
   },
   "source": [
    "# Exception Handling"
   ]
  },
  {
   "cell_type": "code",
   "execution_count": 15,
   "metadata": {
    "collapsed": true
   },
   "outputs": [],
   "source": [
    "## Try Except"
   ]
  },
  {
   "cell_type": "code",
   "execution_count": 16,
   "metadata": {
    "collapsed": true
   },
   "outputs": [],
   "source": [
    "## With"
   ]
  },
  {
   "cell_type": "markdown",
   "metadata": {
    "collapsed": true
   },
   "source": [
    "# Functions, Classes and Modules"
   ]
  },
  {
   "cell_type": "code",
   "execution_count": null,
   "metadata": {
    "collapsed": true
   },
   "outputs": [],
   "source": []
  },
  {
   "cell_type": "code",
   "execution_count": null,
   "metadata": {
    "collapsed": true
   },
   "outputs": [],
   "source": []
  },
  {
   "cell_type": "code",
   "execution_count": null,
   "metadata": {
    "collapsed": true
   },
   "outputs": [],
   "source": []
  },
  {
   "cell_type": "code",
   "execution_count": null,
   "metadata": {
    "collapsed": true
   },
   "outputs": [],
   "source": []
  },
  {
   "cell_type": "code",
   "execution_count": null,
   "metadata": {
    "collapsed": true
   },
   "outputs": [],
   "source": []
  },
  {
   "cell_type": "code",
   "execution_count": null,
   "metadata": {
    "collapsed": true
   },
   "outputs": [],
   "source": []
  },
  {
   "cell_type": "code",
   "execution_count": null,
   "metadata": {
    "collapsed": true
   },
   "outputs": [],
   "source": []
  },
  {
   "cell_type": "markdown",
   "metadata": {
    "collapsed": true,
    "slideshow": {
     "slide_type": "slide"
    }
   },
   "source": [
    "\n",
    "<h1 style=\"text-align: center;\">Next Workshop</h1>\n",
    "\n",
    "\n",
    "![PyLadies](https://mneme.informatik.unibw-muenchen.de/public-praes/pyladies-beginners-workshop1/images/pyladies-munich.png \"PyLadies Munich\")\n",
    "\n",
    "<h1 style=\"text-align: center;\">Thursady May 28th 2015 - 18:30</h1>\n",
    "\n",
    "\n",
    "<h2 style=\"text-align: center;\">Starting Web-Development with Pyramid</h2>"
   ]
  }
 ],
 "metadata": {
  "celltoolbar": "Slideshow",
  "kernelspec": {
   "display_name": "Python 3",
   "language": "python",
   "name": "python3"
  },
  "language_info": {
   "codemirror_mode": {
    "name": "ipython",
    "version": 3
   },
   "file_extension": ".py",
   "mimetype": "text/x-python",
   "name": "python",
   "nbconvert_exporter": "python",
   "pygments_lexer": "ipython3",
   "version": "3.4.2"
  }
 },
 "nbformat": 4,
 "nbformat_minor": 0
}
